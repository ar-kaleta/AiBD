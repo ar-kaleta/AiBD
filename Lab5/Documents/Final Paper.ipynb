{
 "cells": [
  {
   "cell_type": "raw",
   "metadata": {},
   "source": [
    "This is the Final Paper that has an introduction based on Metadata and The Data Appendix and summarizes the results of the data analysis."
   ]
  },
  {
   "cell_type": "raw",
   "metadata": {},
   "source": [
    "Age      Gender  Outlook\n",
    "18 - 29  Female  No         62\n",
    "                 Yes        47\n",
    "         Male    No         65\n",
    "                 Yes        41\n",
    "30 - 44  Female  No         70\n",
    "                 Yes        61\n",
    "         Male    No         67\n",
    "                 Yes        59\n",
    "45 - 59  Female  No         80\n",
    "                 Yes        61\n",
    "         Male    No         74\n",
    "                 Yes        60\n",
    "60       Female  No         85\n",
    "                 Yes        55\n",
    "         Male    No         68\n",
    "                 Yes        46"
   ]
  },
  {
   "cell_type": "raw",
   "metadata": {},
   "source": []
  }
 ],
 "metadata": {
  "kernelspec": {
   "display_name": "Python 3",
   "language": "python",
   "name": "python3"
  },
  "language_info": {
   "codemirror_mode": {
    "name": "ipython",
    "version": 3
   },
   "file_extension": ".py",
   "mimetype": "text/x-python",
   "name": "python",
   "nbconvert_exporter": "python",
   "pygments_lexer": "ipython3",
   "version": "3.7.4"
  }
 },
 "nbformat": 4,
 "nbformat_minor": 4
}
