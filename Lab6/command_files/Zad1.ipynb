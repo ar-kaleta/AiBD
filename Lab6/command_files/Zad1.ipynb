{
 "cells": [
  {
   "cell_type": "code",
   "execution_count": 1,
   "metadata": {},
   "outputs": [],
   "source": [
    "import pandas as pd\n",
    "import statsmodels.formula.api as smf\n",
    "import plotnine as p9"
   ]
  },
  {
   "cell_type": "code",
   "execution_count": 26,
   "metadata": {},
   "outputs": [
    {
     "data": {
      "text/html": [
       "<div>\n",
       "<style scoped>\n",
       "    .dataframe tbody tr th:only-of-type {\n",
       "        vertical-align: middle;\n",
       "    }\n",
       "\n",
       "    .dataframe tbody tr th {\n",
       "        vertical-align: top;\n",
       "    }\n",
       "\n",
       "    .dataframe thead th {\n",
       "        text-align: right;\n",
       "    }\n",
       "</style>\n",
       "<table border=\"1\" class=\"dataframe\">\n",
       "  <thead>\n",
       "    <tr style=\"text-align: right;\">\n",
       "      <th></th>\n",
       "      <th>y</th>\n",
       "      <th>x1</th>\n",
       "      <th>x2</th>\n",
       "    </tr>\n",
       "  </thead>\n",
       "  <tbody>\n",
       "    <tr>\n",
       "      <th>0</th>\n",
       "      <td>15.68</td>\n",
       "      <td>6.87</td>\n",
       "      <td>14.09</td>\n",
       "    </tr>\n",
       "    <tr>\n",
       "      <th>1</th>\n",
       "      <td>6.18</td>\n",
       "      <td>4.40</td>\n",
       "      <td>4.35</td>\n",
       "    </tr>\n",
       "    <tr>\n",
       "      <th>2</th>\n",
       "      <td>18.10</td>\n",
       "      <td>0.43</td>\n",
       "      <td>18.09</td>\n",
       "    </tr>\n",
       "    <tr>\n",
       "      <th>3</th>\n",
       "      <td>9.07</td>\n",
       "      <td>2.73</td>\n",
       "      <td>8.65</td>\n",
       "    </tr>\n",
       "    <tr>\n",
       "      <th>4</th>\n",
       "      <td>17.97</td>\n",
       "      <td>3.25</td>\n",
       "      <td>17.68</td>\n",
       "    </tr>\n",
       "  </tbody>\n",
       "</table>\n",
       "</div>"
      ],
      "text/plain": [
       "       y    x1     x2\n",
       "0  15.68  6.87  14.09\n",
       "1   6.18  4.40   4.35\n",
       "2  18.10  0.43  18.09\n",
       "3   9.07  2.73   8.65\n",
       "4  17.97  3.25  17.68"
      ]
     },
     "execution_count": 26,
     "metadata": {},
     "output_type": "execute_result"
    }
   ],
   "source": [
    "df = pd.read_csv('../orginal_data/exercise.csv')\n",
    "df=df.head(40)\n",
    "df.head()"
   ]
  },
  {
   "cell_type": "markdown",
   "metadata": {},
   "source": [
    "Jako że dane są zgodne z zasadami \"tidy data\" zapisujemy je do katalogu analysis_data"
   ]
  },
  {
   "cell_type": "code",
   "execution_count": 23,
   "metadata": {},
   "outputs": [],
   "source": [
    "df.to_csv(path_or_buf='../analysis_data/exercise.csv')"
   ]
  },
  {
   "cell_type": "code",
   "execution_count": 4,
   "metadata": {},
   "outputs": [
    {
     "data": {
      "text/html": [
       "<table class=\"simpletable\">\n",
       "<caption>OLS Regression Results</caption>\n",
       "<tr>\n",
       "  <th>Dep. Variable:</th>            <td>y</td>        <th>  R-squared:         </th> <td>   0.153</td>\n",
       "</tr>\n",
       "<tr>\n",
       "  <th>Model:</th>                   <td>OLS</td>       <th>  Adj. R-squared:    </th> <td>   0.131</td>\n",
       "</tr>\n",
       "<tr>\n",
       "  <th>Method:</th>             <td>Least Squares</td>  <th>  F-statistic:       </th> <td>   6.890</td>\n",
       "</tr>\n",
       "<tr>\n",
       "  <th>Date:</th>             <td>Fri, 13 Dec 2019</td> <th>  Prob (F-statistic):</th>  <td>0.0124</td> \n",
       "</tr>\n",
       "<tr>\n",
       "  <th>Time:</th>                 <td>12:38:48</td>     <th>  Log-Likelihood:    </th> <td> -119.47</td>\n",
       "</tr>\n",
       "<tr>\n",
       "  <th>No. Observations:</th>      <td>    40</td>      <th>  AIC:               </th> <td>   242.9</td>\n",
       "</tr>\n",
       "<tr>\n",
       "  <th>Df Residuals:</th>          <td>    38</td>      <th>  BIC:               </th> <td>   246.3</td>\n",
       "</tr>\n",
       "<tr>\n",
       "  <th>Df Model:</th>              <td>     1</td>      <th>                     </th>     <td> </td>   \n",
       "</tr>\n",
       "<tr>\n",
       "  <th>Covariance Type:</th>      <td>nonrobust</td>    <th>                     </th>     <td> </td>   \n",
       "</tr>\n",
       "</table>\n",
       "<table class=\"simpletable\">\n",
       "<tr>\n",
       "      <td></td>         <th>coef</th>     <th>std err</th>      <th>t</th>      <th>P>|t|</th>  <th>[0.025</th>    <th>0.975]</th>  \n",
       "</tr>\n",
       "<tr>\n",
       "  <th>Intercept</th> <td>   10.0633</td> <td>    1.553</td> <td>    6.481</td> <td> 0.000</td> <td>    6.920</td> <td>   13.206</td>\n",
       "</tr>\n",
       "<tr>\n",
       "  <th>x1</th>        <td>    0.6559</td> <td>    0.250</td> <td>    2.625</td> <td> 0.012</td> <td>    0.150</td> <td>    1.162</td>\n",
       "</tr>\n",
       "</table>\n",
       "<table class=\"simpletable\">\n",
       "<tr>\n",
       "  <th>Omnibus:</th>       <td>13.821</td> <th>  Durbin-Watson:     </th> <td>   2.000</td>\n",
       "</tr>\n",
       "<tr>\n",
       "  <th>Prob(Omnibus):</th> <td> 0.001</td> <th>  Jarque-Bera (JB):  </th> <td>   3.043</td>\n",
       "</tr>\n",
       "<tr>\n",
       "  <th>Skew:</th>          <td>-0.122</td> <th>  Prob(JB):          </th> <td>   0.218</td>\n",
       "</tr>\n",
       "<tr>\n",
       "  <th>Kurtosis:</th>      <td> 1.671</td> <th>  Cond. No.          </th> <td>    12.6</td>\n",
       "</tr>\n",
       "</table><br/><br/>Warnings:<br/>[1] Standard Errors assume that the covariance matrix of the errors is correctly specified."
      ],
      "text/plain": [
       "<class 'statsmodels.iolib.summary.Summary'>\n",
       "\"\"\"\n",
       "                            OLS Regression Results                            \n",
       "==============================================================================\n",
       "Dep. Variable:                      y   R-squared:                       0.153\n",
       "Model:                            OLS   Adj. R-squared:                  0.131\n",
       "Method:                 Least Squares   F-statistic:                     6.890\n",
       "Date:                Fri, 13 Dec 2019   Prob (F-statistic):             0.0124\n",
       "Time:                        12:38:48   Log-Likelihood:                -119.47\n",
       "No. Observations:                  40   AIC:                             242.9\n",
       "Df Residuals:                      38   BIC:                             246.3\n",
       "Df Model:                           1                                         \n",
       "Covariance Type:            nonrobust                                         \n",
       "==============================================================================\n",
       "                 coef    std err          t      P>|t|      [0.025      0.975]\n",
       "------------------------------------------------------------------------------\n",
       "Intercept     10.0633      1.553      6.481      0.000       6.920      13.206\n",
       "x1             0.6559      0.250      2.625      0.012       0.150       1.162\n",
       "==============================================================================\n",
       "Omnibus:                       13.821   Durbin-Watson:                   2.000\n",
       "Prob(Omnibus):                  0.001   Jarque-Bera (JB):                3.043\n",
       "Skew:                          -0.122   Prob(JB):                        0.218\n",
       "Kurtosis:                       1.671   Cond. No.                         12.6\n",
       "==============================================================================\n",
       "\n",
       "Warnings:\n",
       "[1] Standard Errors assume that the covariance matrix of the errors is correctly specified.\n",
       "\"\"\""
      ]
     },
     "execution_count": 4,
     "metadata": {},
     "output_type": "execute_result"
    }
   ],
   "source": [
    "model_x1 = smf.ols('y ~ x1', data=df.head(40)).fit()\n",
    "params_x1=model_x1.params\n",
    "model_x1.summary()"
   ]
  },
  {
   "cell_type": "code",
   "execution_count": 6,
   "metadata": {},
   "outputs": [
    {
     "data": {
      "text/html": [
       "<table class=\"simpletable\">\n",
       "<caption>OLS Regression Results</caption>\n",
       "<tr>\n",
       "  <th>Dep. Variable:</th>            <td>y</td>        <th>  R-squared:         </th> <td>   0.879</td>\n",
       "</tr>\n",
       "<tr>\n",
       "  <th>Model:</th>                   <td>OLS</td>       <th>  Adj. R-squared:    </th> <td>   0.875</td>\n",
       "</tr>\n",
       "<tr>\n",
       "  <th>Method:</th>             <td>Least Squares</td>  <th>  F-statistic:       </th> <td>   275.2</td>\n",
       "</tr>\n",
       "<tr>\n",
       "  <th>Date:</th>             <td>Fri, 13 Dec 2019</td> <th>  Prob (F-statistic):</th> <td>5.38e-19</td>\n",
       "</tr>\n",
       "<tr>\n",
       "  <th>Time:</th>                 <td>12:38:55</td>     <th>  Log-Likelihood:    </th> <td> -80.617</td>\n",
       "</tr>\n",
       "<tr>\n",
       "  <th>No. Observations:</th>      <td>    40</td>      <th>  AIC:               </th> <td>   165.2</td>\n",
       "</tr>\n",
       "<tr>\n",
       "  <th>Df Residuals:</th>          <td>    38</td>      <th>  BIC:               </th> <td>   168.6</td>\n",
       "</tr>\n",
       "<tr>\n",
       "  <th>Df Model:</th>              <td>     1</td>      <th>                     </th>     <td> </td>   \n",
       "</tr>\n",
       "<tr>\n",
       "  <th>Covariance Type:</th>      <td>nonrobust</td>    <th>                     </th>     <td> </td>   \n",
       "</tr>\n",
       "</table>\n",
       "<table class=\"simpletable\">\n",
       "<tr>\n",
       "      <td></td>         <th>coef</th>     <th>std err</th>      <th>t</th>      <th>P>|t|</th>  <th>[0.025</th>    <th>0.975]</th>  \n",
       "</tr>\n",
       "<tr>\n",
       "  <th>Intercept</th> <td>    3.7853</td> <td>    0.660</td> <td>    5.732</td> <td> 0.000</td> <td>    2.448</td> <td>    5.122</td>\n",
       "</tr>\n",
       "<tr>\n",
       "  <th>x2</th>        <td>    0.8322</td> <td>    0.050</td> <td>   16.589</td> <td> 0.000</td> <td>    0.731</td> <td>    0.934</td>\n",
       "</tr>\n",
       "</table>\n",
       "<table class=\"simpletable\">\n",
       "<tr>\n",
       "  <th>Omnibus:</th>       <td> 4.552</td> <th>  Durbin-Watson:     </th> <td>   2.157</td>\n",
       "</tr>\n",
       "<tr>\n",
       "  <th>Prob(Omnibus):</th> <td> 0.103</td> <th>  Jarque-Bera (JB):  </th> <td>   3.221</td>\n",
       "</tr>\n",
       "<tr>\n",
       "  <th>Skew:</th>          <td> 0.600</td> <th>  Prob(JB):          </th> <td>   0.200</td>\n",
       "</tr>\n",
       "<tr>\n",
       "  <th>Kurtosis:</th>      <td> 3.701</td> <th>  Cond. No.          </th> <td>    29.6</td>\n",
       "</tr>\n",
       "</table><br/><br/>Warnings:<br/>[1] Standard Errors assume that the covariance matrix of the errors is correctly specified."
      ],
      "text/plain": [
       "<class 'statsmodels.iolib.summary.Summary'>\n",
       "\"\"\"\n",
       "                            OLS Regression Results                            \n",
       "==============================================================================\n",
       "Dep. Variable:                      y   R-squared:                       0.879\n",
       "Model:                            OLS   Adj. R-squared:                  0.875\n",
       "Method:                 Least Squares   F-statistic:                     275.2\n",
       "Date:                Fri, 13 Dec 2019   Prob (F-statistic):           5.38e-19\n",
       "Time:                        12:38:55   Log-Likelihood:                -80.617\n",
       "No. Observations:                  40   AIC:                             165.2\n",
       "Df Residuals:                      38   BIC:                             168.6\n",
       "Df Model:                           1                                         \n",
       "Covariance Type:            nonrobust                                         \n",
       "==============================================================================\n",
       "                 coef    std err          t      P>|t|      [0.025      0.975]\n",
       "------------------------------------------------------------------------------\n",
       "Intercept      3.7853      0.660      5.732      0.000       2.448       5.122\n",
       "x2             0.8322      0.050     16.589      0.000       0.731       0.934\n",
       "==============================================================================\n",
       "Omnibus:                        4.552   Durbin-Watson:                   2.157\n",
       "Prob(Omnibus):                  0.103   Jarque-Bera (JB):                3.221\n",
       "Skew:                           0.600   Prob(JB):                        0.200\n",
       "Kurtosis:                       3.701   Cond. No.                         29.6\n",
       "==============================================================================\n",
       "\n",
       "Warnings:\n",
       "[1] Standard Errors assume that the covariance matrix of the errors is correctly specified.\n",
       "\"\"\""
      ]
     },
     "execution_count": 6,
     "metadata": {},
     "output_type": "execute_result"
    }
   ],
   "source": [
    "model_x2 = smf.ols('y ~ x2', data=df.head(40)).fit()\n",
    "params_x2=model_x2.params\n",
    "model_x2.summary()"
   ]
  },
  {
   "cell_type": "code",
   "execution_count": 7,
   "metadata": {},
   "outputs": [],
   "source": [
    "fig_model_x1=(p9.ggplot(p9.aes(x='x1',y='y'),data=df)\n",
    "      +p9.geom_jitter(width=0.1)\n",
    "      +p9.geom_abline(p9.aes(intercept=params_x1['Intercept'],slope=params_x1['x1'])))"
   ]
  },
  {
   "cell_type": "code",
   "execution_count": 8,
   "metadata": {},
   "outputs": [
    {
     "data": {
      "image/png": "[encoded data removed]",
      "text/plain": [
       "<Figure size 640x480 with 1 Axes>"
      ]
     },
     "metadata": {},
     "output_type": "display_data"
    },
    {
     "data": {
      "text/plain": [
       "<ggplot: (-9223371957515239080)>"
      ]
     },
     "execution_count": 8,
     "metadata": {},
     "output_type": "execute_result"
    }
   ],
   "source": [
    "fig_model_x1"
   ]
  },
  {
   "cell_type": "code",
   "execution_count": 9,
   "metadata": {},
   "outputs": [],
   "source": [
    "fig_model_x2=(p9.ggplot(p9.aes(x='x2',y='y'),data=df)\n",
    "      +p9.geom_jitter(width=0.1)\n",
    "      +p9.geom_abline(p9.aes(intercept=params_x2['Intercept'],slope=params_x2['x2'])))"
   ]
  },
  {
   "cell_type": "code",
   "execution_count": 10,
   "metadata": {},
   "outputs": [
    {
     "data": {
      "image/png": "[encoded data removed]",
      "text/plain": [
       "<Figure size 640x480 with 1 Axes>"
      ]
     },
     "metadata": {},
     "output_type": "display_data"
    },
    {
     "data": {
      "text/plain": [
       "<ggplot: (-9223371957515168868)>"
      ]
     },
     "execution_count": 10,
     "metadata": {},
     "output_type": "execute_result"
    }
   ],
   "source": [
    "fig_model_x2"
   ]
  },
  {
   "cell_type": "code",
   "execution_count": 11,
   "metadata": {},
   "outputs": [],
   "source": [
    "df['y_predicted_x1']=model_x1.predict()\n",
    "df['y_predicted_x2']=model_x2.predict()\n",
    "\n",
    "df['residualsx1']=df['y']-df['y_predicted_x1']\n",
    "df['residualsx2']=df['y']-df['y_predicted_x2']"
   ]
  },
  {
   "cell_type": "code",
   "execution_count": 12,
   "metadata": {},
   "outputs": [
    {
     "data": {
      "image/png": "[encoded data removed]",
      "text/plain": [
       "<Figure size 640x480 with 1 Axes>"
      ]
     },
     "metadata": {},
     "output_type": "display_data"
    },
    {
     "data": {
      "text/plain": [
       "<ggplot: (-9223371957515168968)>"
      ]
     },
     "execution_count": 12,
     "metadata": {},
     "output_type": "execute_result"
    }
   ],
   "source": [
    "fig_res_x1=(p9.ggplot(p9.aes(x='x1',y='residualsx1'),data=df.head(40))\n",
    "      +p9.geom_point())\n",
    "fig_res_x1"
   ]
  },
  {
   "cell_type": "code",
   "execution_count": 13,
   "metadata": {},
   "outputs": [
    {
     "data": {
      "image/png": "[encoded data removed]",
      "text/plain": [
       "<Figure size 640x480 with 1 Axes>"
      ]
     },
     "metadata": {},
     "output_type": "display_data"
    },
    {
     "data": {
      "text/plain": [
       "<ggplot: (-9223371957515157268)>"
      ]
     },
     "execution_count": 13,
     "metadata": {},
     "output_type": "execute_result"
    }
   ],
   "source": [
    "fig_res_x2=(p9.ggplot(p9.aes(x='x2',y='residualsx2'),data=df)\n",
    "      +p9.geom_point())\n",
    "fig_res_x2"
   ]
  },
  {
   "cell_type": "code",
   "execution_count": 15,
   "metadata": {},
   "outputs": [],
   "source": [
    "model_x = smf.ols('y ~ x1+x2', data=df).fit()\n",
    "params_x=model_x.params"
   ]
  },
  {
   "cell_type": "code",
   "execution_count": 16,
   "metadata": {},
   "outputs": [],
   "source": [
    "df['y_predict']=model_x.predict()\n",
    "df['residuals_prediction']=abs(df['y']-df['y_predict'])"
   ]
  },
  {
   "cell_type": "code",
   "execution_count": 17,
   "metadata": {},
   "outputs": [],
   "source": [
    "fig_res_x=(p9.ggplot(p9.aes(x='x2',y='residuals_prediction'),data=df.tail(20))\n",
    "      +p9.geom_point())"
   ]
  },
  {
   "cell_type": "code",
   "execution_count": 18,
   "metadata": {},
   "outputs": [
    {
     "data": {
      "image/png": "[encoded data removed]",
      "text/plain": [
       "<Figure size 640x480 with 1 Axes>"
      ]
     },
     "metadata": {},
     "output_type": "display_data"
    },
    {
     "data": {
      "text/plain": [
       "<ggplot: (-9223371957515298072)>"
      ]
     },
     "execution_count": 18,
     "metadata": {},
     "output_type": "execute_result"
    }
   ],
   "source": [
    "fig_res_x"
   ]
  },
  {
   "cell_type": "code",
   "execution_count": 19,
   "metadata": {},
   "outputs": [
    {
     "data": {
      "text/html": [
       "<div>\n",
       "<style scoped>\n",
       "    .dataframe tbody tr th:only-of-type {\n",
       "        vertical-align: middle;\n",
       "    }\n",
       "\n",
       "    .dataframe tbody tr th {\n",
       "        vertical-align: top;\n",
       "    }\n",
       "\n",
       "    .dataframe thead th {\n",
       "        text-align: right;\n",
       "    }\n",
       "</style>\n",
       "<table border=\"1\" class=\"dataframe\">\n",
       "  <thead>\n",
       "    <tr style=\"text-align: right;\">\n",
       "      <th></th>\n",
       "      <th>y</th>\n",
       "      <th>x1</th>\n",
       "      <th>x2</th>\n",
       "      <th>y_predicted_x1</th>\n",
       "      <th>y_predicted_x2</th>\n",
       "      <th>residualsx1</th>\n",
       "      <th>residualsx2</th>\n",
       "      <th>y_predict</th>\n",
       "      <th>residuals_prediction</th>\n",
       "    </tr>\n",
       "  </thead>\n",
       "  <tbody>\n",
       "    <tr>\n",
       "      <th>y</th>\n",
       "      <td>1.000000</td>\n",
       "      <td>0.641969</td>\n",
       "      <td>0.954573</td>\n",
       "      <td>0.641969</td>\n",
       "      <td>0.954573</td>\n",
       "      <td>0.914777</td>\n",
       "      <td>0.672411</td>\n",
       "      <td>0.994218</td>\n",
       "      <td>-0.160702</td>\n",
       "    </tr>\n",
       "    <tr>\n",
       "      <th>x1</th>\n",
       "      <td>0.641969</td>\n",
       "      <td>1.000000</td>\n",
       "      <td>0.404663</td>\n",
       "      <td>1.000000</td>\n",
       "      <td>0.404663</td>\n",
       "      <td>0.277530</td>\n",
       "      <td>0.948697</td>\n",
       "      <td>0.668390</td>\n",
       "      <td>-0.010363</td>\n",
       "    </tr>\n",
       "    <tr>\n",
       "      <th>x2</th>\n",
       "      <td>0.954573</td>\n",
       "      <td>0.404663</td>\n",
       "      <td>1.000000</td>\n",
       "      <td>0.404663</td>\n",
       "      <td>1.000000</td>\n",
       "      <td>0.982884</td>\n",
       "      <td>0.421310</td>\n",
       "      <td>0.950663</td>\n",
       "      <td>-0.250059</td>\n",
       "    </tr>\n",
       "    <tr>\n",
       "      <th>y_predicted_x1</th>\n",
       "      <td>0.641969</td>\n",
       "      <td>1.000000</td>\n",
       "      <td>0.404663</td>\n",
       "      <td>1.000000</td>\n",
       "      <td>0.404663</td>\n",
       "      <td>0.277530</td>\n",
       "      <td>0.948697</td>\n",
       "      <td>0.668390</td>\n",
       "      <td>-0.010363</td>\n",
       "    </tr>\n",
       "    <tr>\n",
       "      <th>y_predicted_x2</th>\n",
       "      <td>0.954573</td>\n",
       "      <td>0.404663</td>\n",
       "      <td>1.000000</td>\n",
       "      <td>0.404663</td>\n",
       "      <td>1.000000</td>\n",
       "      <td>0.982884</td>\n",
       "      <td>0.421310</td>\n",
       "      <td>0.950663</td>\n",
       "      <td>-0.250059</td>\n",
       "    </tr>\n",
       "    <tr>\n",
       "      <th>residualsx1</th>\n",
       "      <td>0.914777</td>\n",
       "      <td>0.277530</td>\n",
       "      <td>0.982884</td>\n",
       "      <td>0.277530</td>\n",
       "      <td>0.982884</td>\n",
       "      <td>1.000000</td>\n",
       "      <td>0.342704</td>\n",
       "      <td>0.893611</td>\n",
       "      <td>-0.195901</td>\n",
       "    </tr>\n",
       "    <tr>\n",
       "      <th>residualsx2</th>\n",
       "      <td>0.672411</td>\n",
       "      <td>0.948697</td>\n",
       "      <td>0.421310</td>\n",
       "      <td>0.948697</td>\n",
       "      <td>0.421310</td>\n",
       "      <td>0.342704</td>\n",
       "      <td>1.000000</td>\n",
       "      <td>0.664526</td>\n",
       "      <td>0.132040</td>\n",
       "    </tr>\n",
       "    <tr>\n",
       "      <th>y_predict</th>\n",
       "      <td>0.994218</td>\n",
       "      <td>0.668390</td>\n",
       "      <td>0.950663</td>\n",
       "      <td>0.668390</td>\n",
       "      <td>0.950663</td>\n",
       "      <td>0.893611</td>\n",
       "      <td>0.664526</td>\n",
       "      <td>1.000000</td>\n",
       "      <td>-0.206909</td>\n",
       "    </tr>\n",
       "    <tr>\n",
       "      <th>residuals_prediction</th>\n",
       "      <td>-0.160702</td>\n",
       "      <td>-0.010363</td>\n",
       "      <td>-0.250059</td>\n",
       "      <td>-0.010363</td>\n",
       "      <td>-0.250059</td>\n",
       "      <td>-0.195901</td>\n",
       "      <td>0.132040</td>\n",
       "      <td>-0.206909</td>\n",
       "      <td>1.000000</td>\n",
       "    </tr>\n",
       "  </tbody>\n",
       "</table>\n",
       "</div>"
      ],
      "text/plain": [
       "                             y        x1        x2  y_predicted_x1  \\\n",
       "y                     1.000000  0.641969  0.954573        0.641969   \n",
       "x1                    0.641969  1.000000  0.404663        1.000000   \n",
       "x2                    0.954573  0.404663  1.000000        0.404663   \n",
       "y_predicted_x1        0.641969  1.000000  0.404663        1.000000   \n",
       "y_predicted_x2        0.954573  0.404663  1.000000        0.404663   \n",
       "residualsx1           0.914777  0.277530  0.982884        0.277530   \n",
       "residualsx2           0.672411  0.948697  0.421310        0.948697   \n",
       "y_predict             0.994218  0.668390  0.950663        0.668390   \n",
       "residuals_prediction -0.160702 -0.010363 -0.250059       -0.010363   \n",
       "\n",
       "                      y_predicted_x2  residualsx1  residualsx2  y_predict  \\\n",
       "y                           0.954573     0.914777     0.672411   0.994218   \n",
       "x1                          0.404663     0.277530     0.948697   0.668390   \n",
       "x2                          1.000000     0.982884     0.421310   0.950663   \n",
       "y_predicted_x1              0.404663     0.277530     0.948697   0.668390   \n",
       "y_predicted_x2              1.000000     0.982884     0.421310   0.950663   \n",
       "residualsx1                 0.982884     1.000000     0.342704   0.893611   \n",
       "residualsx2                 0.421310     0.342704     1.000000   0.664526   \n",
       "y_predict                   0.950663     0.893611     0.664526   1.000000   \n",
       "residuals_prediction       -0.250059    -0.195901     0.132040  -0.206909   \n",
       "\n",
       "                      residuals_prediction  \n",
       "y                                -0.160702  \n",
       "x1                               -0.010363  \n",
       "x2                               -0.250059  \n",
       "y_predicted_x1                   -0.010363  \n",
       "y_predicted_x2                   -0.250059  \n",
       "residualsx1                      -0.195901  \n",
       "residualsx2                       0.132040  \n",
       "y_predict                        -0.206909  \n",
       "residuals_prediction              1.000000  "
      ]
     },
     "execution_count": 19,
     "metadata": {},
     "output_type": "execute_result"
    }
   ],
   "source": [
    "df.tail(20).corr()"
   ]
  },
  {
   "cell_type": "code",
   "execution_count": null,
   "metadata": {},
   "outputs": [],
   "source": []
  }
 ],
 "metadata": {
  "kernelspec": {
   "display_name": "Python 3",
   "language": "python",
   "name": "python3"
  },
  "language_info": {
   "codemirror_mode": {
    "name": "ipython",
    "version": 3
   },
   "file_extension": ".py",
   "mimetype": "text/x-python",
   "name": "python",
   "nbconvert_exporter": "python",
   "pygments_lexer": "ipython3",
   "version": "3.7.4"
  }
 },
 "nbformat": 4,
 "nbformat_minor": 4
}
